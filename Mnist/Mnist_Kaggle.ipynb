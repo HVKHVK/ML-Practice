{
 "cells": [
  {
   "cell_type": "code",
   "execution_count": 1,
   "id": "aedf4637-131f-4cb3-a4bc-a3a8a6e69a26",
   "metadata": {},
   "outputs": [],
   "source": [
    "import numpy as np\n",
    "import pandas as pd\n",
    "import tensorflow as tf\n",
    "from tensorflow.keras.models import Sequential\n",
    "from tensorflow.keras.layers import *"
   ]
  },
  {
   "cell_type": "code",
   "execution_count": 2,
   "id": "6846c790-a8c6-4f7d-aedf-e1616727bc91",
   "metadata": {},
   "outputs": [],
   "source": [
    "train_data = pd.read_csv(\"train.csv\")\n",
    "test_data = pd.read_csv(\"test.csv\")"
   ]
  },
  {
   "cell_type": "code",
   "execution_count": 3,
   "id": "2fdeee54-c3cf-4276-b00e-8f134fa68873",
   "metadata": {},
   "outputs": [],
   "source": [
    "x_train, y_train = train_data.iloc[0:,1:], train_data[\"label\"]\n",
    "x_test = test_data"
   ]
  },
  {
   "cell_type": "code",
   "execution_count": 4,
   "id": "78844b17-2e7e-44e7-a8cc-df98c3270871",
   "metadata": {},
   "outputs": [],
   "source": [
    "x_train = x_train/255\n",
    "x_test = x_test/255"
   ]
  },
  {
   "cell_type": "code",
   "execution_count": 5,
   "id": "c9139259-f2d0-49a6-9622-a554e59490d9",
   "metadata": {},
   "outputs": [],
   "source": [
    "x_train= x_train.to_numpy()\n",
    "y_train= y_train.to_numpy()\n",
    "x_test = x_test.to_numpy()"
   ]
  },
  {
   "cell_type": "code",
   "execution_count": 6,
   "id": "888245f4-eaef-402f-8217-de5cfde9418c",
   "metadata": {},
   "outputs": [],
   "source": [
    "x_train = x_train.reshape(-1, 28, 28, 1)\n",
    "x_test = x_test.reshape(-1, 28, 28, 1)\n",
    "y_train = tf.one_hot(y_train, 10)"
   ]
  },
  {
   "cell_type": "code",
   "execution_count": 7,
   "id": "2baf34df-ca27-4bf9-9906-9a63a992981b",
   "metadata": {},
   "outputs": [
    {
     "name": "stdout",
     "output_type": "stream",
     "text": [
      "Model: \"sequential\"\n",
      "_________________________________________________________________\n",
      "Layer (type)                 Output Shape              Param #   \n",
      "=================================================================\n",
      "conv2d (Conv2D)              (None, 28, 28, 32)        832       \n",
      "_________________________________________________________________\n",
      "max_pooling2d (MaxPooling2D) (None, 14, 14, 32)        0         \n",
      "_________________________________________________________________\n",
      "conv2d_1 (Conv2D)            (None, 14, 14, 64)        51264     \n",
      "_________________________________________________________________\n",
      "max_pooling2d_1 (MaxPooling2 (None, 7, 7, 64)          0         \n",
      "_________________________________________________________________\n",
      "flatten (Flatten)            (None, 3136)              0         \n",
      "_________________________________________________________________\n",
      "dense (Dense)                (None, 1024)              3212288   \n",
      "_________________________________________________________________\n",
      "dropout (Dropout)            (None, 1024)              0         \n",
      "_________________________________________________________________\n",
      "dense_1 (Dense)              (None, 10)                10250     \n",
      "=================================================================\n",
      "Total params: 3,274,634\n",
      "Trainable params: 3,274,634\n",
      "Non-trainable params: 0\n",
      "_________________________________________________________________\n"
     ]
    }
   ],
   "source": [
    "model = Sequential()\n",
    "model.add(Conv2D(32, 5, activation='relu', padding=\"same\", input_shape=(28, 28, 1)))\n",
    "model.add(MaxPooling2D(pool_size=(2, 2)))\n",
    "\n",
    "model.add(Conv2D(64, 5, activation='relu', padding=\"same\"))\n",
    "model.add(MaxPooling2D(pool_size=(2, 2)))\n",
    "\n",
    "model.add(Flatten())\n",
    "model.add(Dense(1024, activation='relu'))\n",
    "\n",
    "model.add(Dropout(0.75))\n",
    "\n",
    "model.add(Dense(10, activation='softmax'))\n",
    "\n",
    "model.compile(optimizer='adam',loss='categorical_crossentropy', metrics=['accuracy'])\n",
    "model.summary()"
   ]
  },
  {
   "cell_type": "code",
   "execution_count": 8,
   "id": "601a5714-5a95-4ded-ba79-eeb3f64b9e2a",
   "metadata": {},
   "outputs": [
    {
     "name": "stdout",
     "output_type": "stream",
     "text": [
      "Epoch 1/10\n",
      "657/657 [==============================] - 43s 62ms/step - loss: 0.4151 - accuracy: 0.8656\n",
      "Epoch 2/10\n",
      "657/657 [==============================] - 50s 76ms/step - loss: 0.0708 - accuracy: 0.9790\n",
      "Epoch 3/10\n",
      "657/657 [==============================] - 51s 78ms/step - loss: 0.0527 - accuracy: 0.9843\n",
      "Epoch 4/10\n",
      "657/657 [==============================] - 52s 79ms/step - loss: 0.0371 - accuracy: 0.9885\n",
      "Epoch 5/10\n",
      "657/657 [==============================] - 51s 78ms/step - loss: 0.0289 - accuracy: 0.9911\n",
      "Epoch 6/10\n",
      "657/657 [==============================] - 51s 78ms/step - loss: 0.0273 - accuracy: 0.9919\n",
      "Epoch 7/10\n",
      "657/657 [==============================] - 52s 78ms/step - loss: 0.0209 - accuracy: 0.9933\n",
      "Epoch 8/10\n",
      "657/657 [==============================] - 51s 78ms/step - loss: 0.0193 - accuracy: 0.9943\n",
      "Epoch 9/10\n",
      "657/657 [==============================] - 34s 51ms/step - loss: 0.0182 - accuracy: 0.9936\n",
      "Epoch 10/10\n",
      "657/657 [==============================] - 33s 51ms/step - loss: 0.0164 - accuracy: 0.9947\n"
     ]
    },
    {
     "data": {
      "text/plain": [
       "<tensorflow.python.keras.callbacks.History at 0x7f3aba25a4e0>"
      ]
     },
     "execution_count": 8,
     "metadata": {},
     "output_type": "execute_result"
    }
   ],
   "source": [
    "model.fit(x_train, y_train,batch_size=64, epochs=10)"
   ]
  },
  {
   "cell_type": "code",
   "execution_count": 9,
   "id": "06d77946-6db0-45d5-b57d-ced869125c05",
   "metadata": {},
   "outputs": [],
   "source": [
    "predictions = model.predict(x_test)"
   ]
  },
  {
   "cell_type": "code",
   "execution_count": 10,
   "id": "45c58dac-6872-4497-bcfb-32b03c808882",
   "metadata": {},
   "outputs": [],
   "source": [
    "results = np.argmax(predictions,axis=1)"
   ]
  },
  {
   "cell_type": "code",
   "execution_count": 11,
   "id": "2b4d74b9-8b0d-4eae-b0ee-4cc58c26b9f8",
   "metadata": {},
   "outputs": [],
   "source": [
    "ids = np.arange(1, len(results)+1)"
   ]
  },
  {
   "cell_type": "code",
   "execution_count": 12,
   "id": "b0e56c1c-b8b0-4ab0-84f1-5097272278c5",
   "metadata": {},
   "outputs": [],
   "source": [
    "submission_df = {\"ImageId\": ids,\n",
    "                \"Label\": results}\n",
    "submission = pd.DataFrame(submission_df)"
   ]
  },
  {
   "cell_type": "code",
   "execution_count": 13,
   "id": "3ef87028-382a-480e-af0e-c05532a6d0c6",
   "metadata": {},
   "outputs": [],
   "source": [
    "submission = pd.DataFrame(submission_df)\n",
    "submission.to_csv(\"submissions/submission_4.csv\", index=False)"
   ]
  }
 ],
 "metadata": {
  "kernelspec": {
   "display_name": "Python 3",
   "language": "python",
   "name": "python3"
  },
  "language_info": {
   "codemirror_mode": {
    "name": "ipython",
    "version": 3
   },
   "file_extension": ".py",
   "mimetype": "text/x-python",
   "name": "python",
   "nbconvert_exporter": "python",
   "pygments_lexer": "ipython3",
   "version": "3.6.9"
  }
 },
 "nbformat": 4,
 "nbformat_minor": 5
}
